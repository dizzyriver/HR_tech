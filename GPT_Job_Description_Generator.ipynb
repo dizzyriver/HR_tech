{
 "cells": [
  {
   "cell_type": "code",
   "execution_count": 1,
   "id": "2a5d40bf-9c45-4dd8-a4f8-f0f5335c205c",
   "metadata": {},
   "outputs": [],
   "source": [
    "import openai\n",
    "import os\n",
    "import pickle\n",
    "import pandas as pd\n",
    "from tqdm import tqdm\n",
    "from dotenv import load_dotenv, find_dotenv\n",
    "_ = load_dotenv(find_dotenv()) # read local .env file\n",
    "import json\n",
    "\n",
    "from langchain.chat_models import ChatOpenAI\n",
    "from langchain.prompts import ChatPromptTemplate\n",
    "from langchain.output_parsers import ResponseSchema\n",
    "from langchain.output_parsers import StructuredOutputParser\n",
    "openai.api_key  = os.getenv('OPENAI_API_KEY')"
   ]
  },
  {
   "cell_type": "code",
   "execution_count": 2,
   "id": "c5ff13d3-e0fc-4d74-881c-6dbf2728a50c",
   "metadata": {},
   "outputs": [],
   "source": [
    "def get_completion(prompt, model=\"gpt-3.5-turbo\"):\n",
    "    messages = [{\"role\": \"user\", \"content\": prompt}]\n",
    "    response = openai.ChatCompletion.create(\n",
    "        model=model,\n",
    "        messages=messages,\n",
    "        response_format={\"type\": \"json_object\" },\n",
    "        temperature=0, # this is the degree of randomness of the model's output\n",
    "    )\n",
    "    return response.choices[0].message[\"content\"]"
   ]
  },
  {
   "cell_type": "code",
   "execution_count": 3,
   "id": "7bfe3bf9-6eb0-4894-85e2-1eb00519b905",
   "metadata": {},
   "outputs": [],
   "source": [
    "def get_completion_from_messages(messages, model=\"gpt-3.5-turbo\", temperature=0):\n",
    "    response = openai.ChatCompletion.create(\n",
    "        model=model,\n",
    "        messages=messages,\n",
    "        temperature=temperature, # this is the degree of randomness of the model's output\n",
    "    )\n",
    "#     print(str(response.choices[0].message))\n",
    "    return response.choices[0].message[\"content\"]"
   ]
  },
  {
   "cell_type": "code",
   "execution_count": 4,
   "id": "f2543dd9-2e14-4516-80cb-a5bcd737ee7b",
   "metadata": {},
   "outputs": [],
   "source": [
    "def get_completion_and_token_count(messages, \n",
    "                                   model=\"gpt-3.5-turbo\", \n",
    "                                   temperature=0, \n",
    "                                   max_tokens=500):\n",
    "    \n",
    "    response = openai.ChatCompletion.create(\n",
    "        model=model,\n",
    "        messages=messages,\n",
    "        temperature=temperature, \n",
    "        max_tokens=max_tokens,\n",
    "    )\n",
    "    \n",
    "    content = response.choices[0].message[\"content\"]\n",
    "    \n",
    "    token_dict = {\n",
    "        'prompt_tokens':response['usage']['prompt_tokens'],\n",
    "        'completion_tokens':response['usage']['completion_tokens'],\n",
    "        'total_tokens':response['usage']['total_tokens'],\n",
    "    }\n",
    "\n",
    "    return content, token_dict"
   ]
  },
  {
   "cell_type": "code",
   "execution_count": 6,
   "id": "7604a414-8681-4a42-83e8-d67b50d2ec17",
   "metadata": {},
   "outputs": [],
   "source": [
    "def job_descriptions_to_jsonl():\n",
    "    \"\"\"\n",
    "    Reads in a pickle for each job description and writes them back as json lines in a single file\n",
    "    \"\"\"\n",
    "    jds = []\n",
    "    corrupt = 0\n",
    "    available_job_descriptions = list(filter(lambda f: '.pkl' in f, os.listdir(\"synthetic_job_descriptions\")))\n",
    "    num_jds = len(available_job_descriptions)\n",
    "\n",
    "    for f in available_job_descriptions:\n",
    "\n",
    "        path = os.path.join(\"synthetic_job_descriptions\",f)\n",
    "        try:\n",
    "            with open(path, 'rb') as file:\n",
    "                j = pickle.load(file)\n",
    "                jds.append(j)\n",
    "        except EOFError:\n",
    "            print(\"Empty or corrupted pickle file\")\n",
    "            corrupt += 1\n",
    "\n",
    "    print(corrupt)\n",
    "    # Path to your output file\n",
    "    # the name of the json lines object starts with the number of job descriptions available\n",
    "    fname = f\"\"\"{num_jds}_job_descriptions.jsonl\"\"\"\n",
    "    path = os.path.join(\"synthetic_job_descriptions\", fname)\n",
    "\n",
    "    # Write to the file\n",
    "    with open(path, 'w') as file:\n",
    "        for jd in jds:\n",
    "            json.dump(jd, file)\n",
    "            file.write('\\n')\n",
    "    print(f\"\"\"saved {num_jds} to path: {path}\"\"\")\n",
    "    return path\n"
   ]
  },
  {
   "cell_type": "code",
   "execution_count": 28,
   "id": "5ed78c5d-8ade-4385-9271-0b5a865e6119",
   "metadata": {},
   "outputs": [],
   "source": [
    "def job_descriptions_to_DataFrame(path):\n",
    "\n",
    "    # List to hold the dictionaries\n",
    "    data = []\n",
    "    #keys = {'Role Overview', 'Key Responsibilities', 'Skills', 'Qualifications', 'Job Title'}\n",
    "    # Read the file\n",
    "    with open(path, 'r') as file:\n",
    "        for line in tqdm(file):\n",
    "            # Deserialize each line to a Python dictionary\n",
    "            dictionary = json.loads(line)\n",
    "            data.append(dictionary)\n",
    "            \n",
    "    return pd.DataFrame(data)\n"
   ]
  },
  {
   "cell_type": "code",
   "execution_count": 8,
   "id": "6efa6333-a14e-4c92-8bc0-87b0be02e896",
   "metadata": {},
   "outputs": [],
   "source": [
    "def post_process_job_descriptions(data,jobs):\n",
    "    \n",
    "    data['Key Responsibilities'] = data['Key Responsibilities'].apply(lambda r: ''.join(r))\n",
    "    data['Skills'] = data['Skills'].apply(lambda r: ''.join(r))\n",
    "    data['Qualifications'] = data['Qualifications'].apply(lambda r: ''.join(r))\n",
    "    \n",
    "    job_descriptions = []\n",
    "    corrupt = 0\n",
    "    for ix, row in data.iterrows():\n",
    "    \n",
    "    \n",
    "        s1 = row[\"Role Overview\"]\n",
    "        s2 = ':'.join([\"Key Responsibilities\",row[\"Key Responsibilities\"]])\n",
    "        s3 = ':'.join([\"Skills\",row[\"Skills\"]])\n",
    "        s4 = ':'.join([\"Qualifications\",row[\"Qualifications\"]])\n",
    "        try:\n",
    "            jd = s1 + ' ' + s2 + ' ' +  s3 + ' '  + s4\n",
    "            job_descriptions.append(jd)\n",
    "        except TypeError:\n",
    "            corrupt += 1\n",
    "            job_descriptions.append(\"corrupt\")\n",
    "\n",
    "    data[\"Job Description\"] = job_descriptions\n",
    "    data['TITLE_NAME'] = data['Job Title']\n",
    "    data = data.drop(columns=['Job Title'])\n",
    "    \n",
    "    data = data.merge(jobs, on=\"TITLE_NAME\", how='left')\n",
    "    data['Posting Count'] = data['COUNT(*)']\n",
    "    data = data.drop(columns=['COUNT(*)'])\n",
    "    \n",
    "    print(f\"\"\"num corrupt {corrupt}\"\"\")\n",
    "    \n",
    "    fname = f\"\"\"{data.shape[0]}_job_descriptions.xlsx\"\"\"\n",
    "    path = os.path.join(\"synthetic_job_descriptions\", fname)\n",
    "    print(f\"\"\"writting post processed job descriptions to {path}\"\"\")\n",
    "    data.sort_values(by='Posting Count Rank').to_excel(path,index=None)\n",
    "    "
   ]
  },
  {
   "cell_type": "code",
   "execution_count": 9,
   "id": "e70c1c2c-edce-4611-b400-a24ab86be7b9",
   "metadata": {},
   "outputs": [],
   "source": [
    "def generate_job_descriptions_LC(jobs, examples, model, start=1,stop=1):\n",
    "\n",
    "    \"\"\"\n",
    "    Uses a prompt with a number of examples to generate job descriptions as json from job titles.\n",
    "    Writes job descriptions as pickle objects.\n",
    "    \"\"\"\n",
    "\n",
    "    job_title_schema = ResponseSchema(name=\"Job Title\",description=\"The Job Title provided.\")\n",
    "    role_overview_schema = ResponseSchema(name=\"Role Overview\",description=\"The role overview.\")\n",
    "    key_responsibilities_schema = ResponseSchema(name=\"Key Responsibilities\",description=\"The role key responsibilities.\")\n",
    "    skills_schema = ResponseSchema(name=\"Skills\",description=\"The role skills.\")\n",
    "    qualifications_schema = ResponseSchema(name=\"Qualifications\",description=\"The role qualifications.\")\n",
    "    \n",
    "    response_schemas = [\n",
    "        job_title_schema, \n",
    "        role_overview_schema,\n",
    "        key_responsibilities_schema,\n",
    "        skills_schema,\n",
    "        qualifications_schema\n",
    "    ]\n",
    "    output_parser = StructuredOutputParser.from_response_schemas(response_schemas)\n",
    "    format_instructions = output_parser.get_format_instructions()\n",
    "\n",
    "    chat = ChatOpenAI(temperature=0.0, model=model)\n",
    "    \n",
    "    template_string = \"\"\"You are an expert in writing informative, and rich job descriptions like \n",
    "        in the examples below where each job description start with the string 'Job Title:' \\n\\n\\\n",
    "        {jd_examples} \\n\\n. Using the same style and length as the examples provided please write a\n",
    "        job description for the job in triple backticks ```{job}```.\n",
    "        {format_instructions}\n",
    "        \"\"\"\n",
    "    \n",
    "    prompt_template = ChatPromptTemplate.from_template(template_string)\n",
    "    \n",
    "    for idx, job in tqdm(jobs.iloc[start:stop].iterrows()):\n",
    "        \n",
    "        message = prompt_template.format_messages(\n",
    "                    jd_examples=examples,\n",
    "                    job=job[\"TITLE_NAME\"],\n",
    "                    format_instructions=format_instructions)\n",
    "        \n",
    "        response = chat(message)\n",
    "        output_dict = output_parser.parse(response.content)\n",
    "        \n",
    "        path = os.path.join(\"synthetic_job_descriptions\",f\"\"\"{job[\"TITLE\"]}_GTP4_Job_Description.pkl\"\"\")\n",
    "        with open(path, 'wb') as file:\n",
    "            pickle.dump(output_dict, file)\n",
    "    \n"
   ]
  },
  {
   "cell_type": "markdown",
   "id": "0c32be3d-496a-4428-a34d-e663d9044fe6",
   "metadata": {},
   "source": [
    "### Load Lightcast TITLE_NAME database and example job descriptions"
   ]
  },
  {
   "cell_type": "code",
   "execution_count": 10,
   "id": "ff09d88a-9c6d-48d5-9ede-b7b43c54a2ab",
   "metadata": {},
   "outputs": [
    {
     "data": {
      "text/plain": [
       "(73267, 4)"
      ]
     },
     "execution_count": 10,
     "metadata": {},
     "output_type": "execute_result"
    }
   ],
   "source": [
    "## Load examples\n",
    "with open(\"Job_Title_ Occupational_Therapist.txt\",'r') as f:\n",
    "    jd1 = f.read()\n",
    "with open(\"Job_Title_Project Manager.txt\",'r') as f:\n",
    "    jd2 = f.read()\n",
    "examples = '\\n\\n\\n'.join([jd1,jd2])\n",
    "\n",
    "# Load the db of Lightcast job titles with counts\n",
    "jobs = pd.read_csv('Lightcast_TITLE-TITLE_NAME-COUNT.csv')\n",
    "jobs = jobs[jobs['TITLE_NAME'] != \"Unclassified\"]\n",
    "\n",
    "jobs['Posting Count Rank'] = jobs['COUNT(*)'].rank(ascending=False)\n",
    "\n",
    "#filter by the unmmaped sample\n",
    "#jobs_subset = pd.read_excel('TITLE_NAME_validation.xlsx')\n",
    "#print(jobs_subset.columns)\n",
    "#jobs = jobs[jobs['TITLE_NAME'].isin(list(jobs_subset['TITLE_NAME_ADDITIONAL']))]\n",
    "jobs.shape"
   ]
  },
  {
   "cell_type": "markdown",
   "id": "c8e32a71-c22e-494f-ba02-538b8d25f81b",
   "metadata": {},
   "source": [
    "## Fetch job descriptions"
   ]
  },
  {
   "cell_type": "code",
   "execution_count": 86,
   "id": "1806c089-9721-4e7c-afc6-c64470ce1a57",
   "metadata": {},
   "outputs": [
    {
     "name": "stderr",
     "output_type": "stream",
     "text": [
      "100it [44:08, 26.48s/it]\n"
     ]
    }
   ],
   "source": [
    "model = \"gpt-3.5-turbo\"\n",
    "model = \"gpt-4-turbo-preview\"\n",
    "start = 1400\n",
    "stop = 1500\n",
    "generate_job_descriptions_LC(jobs, examples, model, start=start, stop=stop)"
   ]
  },
  {
   "cell_type": "markdown",
   "id": "c692ef13-e6ae-4721-a4d4-2ddbaecdb0ed",
   "metadata": {},
   "source": [
    "## Read all pickles and write as one jsonl file also store as DataFrame"
   ]
  },
  {
   "cell_type": "code",
   "execution_count": 87,
   "id": "3c0a11f4-0f13-49c5-8e3c-393ebcd41b78",
   "metadata": {},
   "outputs": [
    {
     "name": "stdout",
     "output_type": "stream",
     "text": [
      "0\n",
      "saved 1500 to path: synthetic_job_descriptions/1500_job_descriptions.jsonl\n"
     ]
    }
   ],
   "source": [
    "path = job_descriptions_to_jsonl()"
   ]
  },
  {
   "cell_type": "code",
   "execution_count": 88,
   "id": "609fde8a-839c-4d0e-a3ed-dc62c58ac6d1",
   "metadata": {},
   "outputs": [
    {
     "name": "stderr",
     "output_type": "stream",
     "text": [
      "1500it [00:00, 65986.22it/s]\n"
     ]
    },
    {
     "data": {
      "text/html": [
       "<div>\n",
       "<style scoped>\n",
       "    .dataframe tbody tr th:only-of-type {\n",
       "        vertical-align: middle;\n",
       "    }\n",
       "\n",
       "    .dataframe tbody tr th {\n",
       "        vertical-align: top;\n",
       "    }\n",
       "\n",
       "    .dataframe thead th {\n",
       "        text-align: right;\n",
       "    }\n",
       "</style>\n",
       "<table border=\"1\" class=\"dataframe\">\n",
       "  <thead>\n",
       "    <tr style=\"text-align: right;\">\n",
       "      <th></th>\n",
       "      <th>Job Title</th>\n",
       "      <th>Role Overview</th>\n",
       "      <th>Key Responsibilities</th>\n",
       "      <th>Skills</th>\n",
       "      <th>Qualifications</th>\n",
       "    </tr>\n",
       "  </thead>\n",
       "  <tbody>\n",
       "    <tr>\n",
       "      <th>0</th>\n",
       "      <td>Stocker</td>\n",
       "      <td>The Stocker plays a crucial role in retail and...</td>\n",
       "      <td>- Receive and unload inventory from delivery t...</td>\n",
       "      <td>- Strong organizational and time management sk...</td>\n",
       "      <td>- High school diploma or equivalent.\\n- Previo...</td>\n",
       "    </tr>\n",
       "    <tr>\n",
       "      <th>1</th>\n",
       "      <td>Academic Advisor</td>\n",
       "      <td>The Academic Advisor is essential in guiding s...</td>\n",
       "      <td>- Evaluate students’ educational and career go...</td>\n",
       "      <td>- Strong interpersonal and communication skill...</td>\n",
       "      <td>- Bachelor’s degree in Education, Counseling, ...</td>\n",
       "    </tr>\n",
       "    <tr>\n",
       "      <th>2</th>\n",
       "      <td>Labor and Delivery Travel Registered Nurse</td>\n",
       "      <td>The Labor and Delivery Travel Registered Nurse...</td>\n",
       "      <td>- Monitor patient's vital signs and contractio...</td>\n",
       "      <td>- Strong clinical skills with a focus on labor...</td>\n",
       "      <td>- Bachelor of Science in Nursing (BSN) or Asso...</td>\n",
       "    </tr>\n",
       "    <tr>\n",
       "      <th>3</th>\n",
       "      <td>Construction Superintendent</td>\n",
       "      <td>The Construction Superintendent is a key leade...</td>\n",
       "      <td>- Oversee and direct construction projects fro...</td>\n",
       "      <td>- Proven leadership and human resources manage...</td>\n",
       "      <td>- Proven experience as a construction superint...</td>\n",
       "    </tr>\n",
       "    <tr>\n",
       "      <th>4</th>\n",
       "      <td>PHP Developer</td>\n",
       "      <td>The PHP Developer is responsible for creating ...</td>\n",
       "      <td>- Write clean, well-designed code and produce ...</td>\n",
       "      <td>- Strong knowledge of PHP web frameworks such ...</td>\n",
       "      <td>- Bachelor's degree in Computer Science, Engin...</td>\n",
       "    </tr>\n",
       "  </tbody>\n",
       "</table>\n",
       "</div>"
      ],
      "text/plain": [
       "                                    Job Title  \\\n",
       "0                                     Stocker   \n",
       "1                            Academic Advisor   \n",
       "2  Labor and Delivery Travel Registered Nurse   \n",
       "3                 Construction Superintendent   \n",
       "4                               PHP Developer   \n",
       "\n",
       "                                       Role Overview  \\\n",
       "0  The Stocker plays a crucial role in retail and...   \n",
       "1  The Academic Advisor is essential in guiding s...   \n",
       "2  The Labor and Delivery Travel Registered Nurse...   \n",
       "3  The Construction Superintendent is a key leade...   \n",
       "4  The PHP Developer is responsible for creating ...   \n",
       "\n",
       "                                Key Responsibilities  \\\n",
       "0  - Receive and unload inventory from delivery t...   \n",
       "1  - Evaluate students’ educational and career go...   \n",
       "2  - Monitor patient's vital signs and contractio...   \n",
       "3  - Oversee and direct construction projects fro...   \n",
       "4  - Write clean, well-designed code and produce ...   \n",
       "\n",
       "                                              Skills  \\\n",
       "0  - Strong organizational and time management sk...   \n",
       "1  - Strong interpersonal and communication skill...   \n",
       "2  - Strong clinical skills with a focus on labor...   \n",
       "3  - Proven leadership and human resources manage...   \n",
       "4  - Strong knowledge of PHP web frameworks such ...   \n",
       "\n",
       "                                      Qualifications  \n",
       "0  - High school diploma or equivalent.\\n- Previo...  \n",
       "1  - Bachelor’s degree in Education, Counseling, ...  \n",
       "2  - Bachelor of Science in Nursing (BSN) or Asso...  \n",
       "3  - Proven experience as a construction superint...  \n",
       "4  - Bachelor's degree in Computer Science, Engin...  "
      ]
     },
     "execution_count": 88,
     "metadata": {},
     "output_type": "execute_result"
    }
   ],
   "source": [
    "data = job_descriptions_to_DataFrame(path)\n",
    "data.head()"
   ]
  },
  {
   "cell_type": "markdown",
   "id": "19a99752-1fb1-49bd-934e-3bc5186375b7",
   "metadata": {},
   "source": [
    "## Post process job descriptions"
   ]
  },
  {
   "cell_type": "code",
   "execution_count": 89,
   "id": "f18a3f0e-65da-434f-a328-0901599b6666",
   "metadata": {},
   "outputs": [
    {
     "name": "stdout",
     "output_type": "stream",
     "text": [
      "num corrupt 0\n",
      "writting post processed job descriptions to synthetic_job_descriptions/1500_job_descriptions.xlsx\n"
     ]
    }
   ],
   "source": [
    "post_process_job_descriptions(data,jobs)"
   ]
  },
  {
   "cell_type": "code",
   "execution_count": null,
   "id": "0234f7ca-14c0-4cfa-bf63-7fa2ce356435",
   "metadata": {},
   "outputs": [],
   "source": []
  }
 ],
 "metadata": {
  "kernelspec": {
   "display_name": "Python 3 (ipykernel)",
   "language": "python",
   "name": "python3"
  },
  "language_info": {
   "codemirror_mode": {
    "name": "ipython",
    "version": 3
   },
   "file_extension": ".py",
   "mimetype": "text/x-python",
   "name": "python",
   "nbconvert_exporter": "python",
   "pygments_lexer": "ipython3",
   "version": "3.11.7"
  }
 },
 "nbformat": 4,
 "nbformat_minor": 5
}
