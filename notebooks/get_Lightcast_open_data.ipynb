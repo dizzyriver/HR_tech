{
 "cells": [
  {
   "cell_type": "code",
   "execution_count": null,
   "metadata": {},
   "outputs": [],
   "source": [
    "import os\n",
    "import json\n",
    "import requests\n",
    "from datetime import datetime\n",
    "from dotenv import load_dotenv, find_dotenv\n",
    "load_dotenv(find_dotenv())"
   ]
  },
  {
   "cell_type": "code",
   "execution_count": null,
   "metadata": {},
   "outputs": [],
   "source": [
    "def authenticate():\n",
    "    \n",
    "    url = \"https://auth.emsicloud.com/connect/token\"\n",
    "\n",
    "    CLIENT_ID = os.getenv(\"CLIENT_ID\")\n",
    "    CLIENT_SECRET = os.getenv(\"CLIENT_SECRET\")\n",
    "    SCOPE = os.getenv(\"SCOPE\")\n",
    "    payload = f\"\"\"client_id={CLIENT_ID}&client_secret={CLIENT_SECRET}&grant_type=client_credentials&scope={SCOPE}\"\"\"\n",
    "    print(payload)\n",
    "    headers = {'Content-Type': 'application/x-www-form-urlencoded'}\n",
    "\n",
    "    response = requests.request(\"POST\", url, data=payload, headers=headers)\n",
    "\n",
    "    return json.loads(response.text)[\"access_token\"]"
   ]
  },
  {
   "cell_type": "code",
   "execution_count": null,
   "metadata": {},
   "outputs": [],
   "source": [
    "def get_skills(acess_token):\n",
    "\n",
    "    url = url = \"https://emsiservices.com/skills/versions/latest/skills\"\n",
    "    headers = {'Authorization': f\"\"\"Bearer {access_token}\"\"\"}\n",
    "    response = requests.request(\"GET\", url, headers=headers)\n",
    "    path = os.path.join(os.getenv(\"DATA\"),\"Lightcast/Skills\",f\"\"\"skills_{str(datetime.today())[:10]}.json\"\"\")\n",
    "    with open(path, 'w') as file:\n",
    "        json.dump(response.text, file, indent=4)\n",
    "    \n"
   ]
  },
  {
   "cell_type": "code",
   "execution_count": null,
   "metadata": {},
   "outputs": [],
   "source": [
    "def get_jobs(acess_token):\n",
    "\n",
    "    url = \"https://emsiservices.com/titles/versions/latest/titles\"\n",
    "    headers = {'Authorization': f\"\"\"Bearer {access_token}\"\"\"}\n",
    "    response = requests.request(\"GET\", url, headers=headers)\n",
    "    path = os.path.join(os.getenv(\"DATA\"),\"Lightcast/Jobs\",f\"\"\"jobs_{str(datetime.today())[:10]}.json\"\"\")\n",
    "    with open(path, 'w') as file:\n",
    "        json.dump(response.text, file, indent=4)\n"
   ]
  },
  {
   "cell_type": "code",
   "execution_count": null,
   "metadata": {},
   "outputs": [],
   "source": [
    "access_token = authenticate()\n",
    "get_skills(access_token)\n",
    "get_jobs(access_token)"
   ]
  },
  {
   "cell_type": "code",
   "execution_count": null,
   "metadata": {},
   "outputs": [],
   "source": [
    "get_skills(access_token)\n",
    "get_jobs(access_token)\n"
   ]
  },
  {
   "cell_type": "code",
   "execution_count": null,
   "metadata": {},
   "outputs": [],
   "source": []
  },
  {
   "cell_type": "code",
   "execution_count": null,
   "metadata": {},
   "outputs": [],
   "source": []
  }
 ],
 "metadata": {
  "kernelspec": {
   "display_name": "ai",
   "language": "python",
   "name": "python3"
  },
  "language_info": {
   "codemirror_mode": {
    "name": "ipython",
    "version": 3
   },
   "file_extension": ".py",
   "mimetype": "text/x-python",
   "name": "python",
   "nbconvert_exporter": "python",
   "pygments_lexer": "ipython3",
   "version": "3.11.7"
  }
 },
 "nbformat": 4,
 "nbformat_minor": 2
}
