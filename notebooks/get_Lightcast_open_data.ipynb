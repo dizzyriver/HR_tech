{
 "cells": [
  {
   "cell_type": "code",
   "execution_count": 1,
   "metadata": {},
   "outputs": [
    {
     "name": "stderr",
     "output_type": "stream",
     "text": [
      "/Users/vasilishatzopoulos/miniforge3/envs/ai/lib/python3.11/site-packages/pandas/core/arrays/masked.py:60: UserWarning: Pandas requires version '1.3.6' or newer of 'bottleneck' (version '1.3.5' currently installed).\n",
      "  from pandas.core import (\n"
     ]
    },
    {
     "data": {
      "text/plain": [
       "True"
      ]
     },
     "execution_count": 1,
     "metadata": {},
     "output_type": "execute_result"
    }
   ],
   "source": [
    "import os\n",
    "import json\n",
    "import requests\n",
    "from datetime import datetime\n",
    "import pandas as pd\n",
    "from dotenv import load_dotenv, find_dotenv\n",
    "load_dotenv(find_dotenv())"
   ]
  },
  {
   "cell_type": "code",
   "execution_count": 2,
   "metadata": {},
   "outputs": [],
   "source": [
    "def authenticate():\n",
    "    \n",
    "    url = \"https://auth.emsicloud.com/connect/token\"\n",
    "\n",
    "    CLIENT_ID = os.getenv(\"CLIENT_ID\")\n",
    "    CLIENT_SECRET = os.getenv(\"CLIENT_SECRET\")\n",
    "    SCOPE = os.getenv(\"SCOPE\")\n",
    "    payload = f\"\"\"client_id={CLIENT_ID}&client_secret={CLIENT_SECRET}&grant_type=client_credentials&scope={SCOPE}\"\"\"\n",
    "    print(payload)\n",
    "    headers = {'Content-Type': 'application/x-www-form-urlencoded'}\n",
    "\n",
    "    response = requests.request(\"POST\", url, data=payload, headers=headers)\n",
    "\n",
    "    return json.loads(response.text)[\"access_token\"]"
   ]
  },
  {
   "cell_type": "code",
   "execution_count": 3,
   "metadata": {},
   "outputs": [],
   "source": [
    "def get_skills(acess_token):\n",
    "\n",
    "    url = url = \"https://emsiservices.com/skills/versions/latest/skills\"\n",
    "    headers = {'Authorization': f\"\"\"Bearer {access_token}\"\"\"}\n",
    "    response = requests.request(\"GET\", url, headers=headers)\n",
    "    path = os.path.join(os.getenv(\"DATA\"),\"Lightcast/Skills\",f\"\"\"skills_{str(datetime.today())[:10]}.json\"\"\")\n",
    "    with open(path, 'w') as file:\n",
    "        json.dump(response.text, file, indent=4)\n",
    "    \n",
    "    \n"
   ]
  },
  {
   "cell_type": "code",
   "execution_count": 4,
   "metadata": {},
   "outputs": [],
   "source": [
    "def get_jobs(acess_token):\n",
    "\n",
    "    url = \"https://emsiservices.com/titles/versions/latest/titles\"\n",
    "    headers = {'Authorization': f\"\"\"Bearer {access_token}\"\"\"}\n",
    "    response = requests.request(\"GET\", url, headers=headers)\n",
    "    path = os.path.join(os.getenv(\"DATA\"),\"Lightcast/Jobs\",f\"\"\"jobs_{str(datetime.today())[:10]}.json\"\"\")\n",
    "    with open(path, 'w') as file:\n",
    "        json.dump(response.text, file, indent=4)\n"
   ]
  },
  {
   "cell_type": "code",
   "execution_count": 45,
   "metadata": {},
   "outputs": [],
   "source": [
    "def extract_skills(access_token):\n",
    "\n",
    "    #https://docs.lightcast.dev/apis/skills#versions-version-extract\n",
    "    url = \"https://emsiservices.com/skills/versions/latest/extract\"\n",
    "    headers = {'Authorization': f\"\"\"Bearer {access_token}\"\"\",\n",
    "               'Content-Type': \"application/json\"}\n",
    "    text = \"The Data Scientist II provides technical leadership across the overall Analytics function which may have an enterprise mandate. Role generally provides deep technical knowledge and expertise in client interactions to explain complex data analysis related material.\\n     Depth & Scope:\\n    \\n      Generally accountable for a significant business management area that typically has enterprise wide impact or accountability\\n      Enterprise or functional expert, requiring broad managerial and deep specialized knowledge at the enterprise, business, regulatory and industry levels\\n      Undertakes and completes a variety of complex initiatives requiring seasoned specialist knowledge and/or the integration of cross functional processes\\n      Position typically deals with senior/executive management\\n      Focuses on longer-range planning for functional area (e.g. 12 months or greater)\\n      May manage and prioritize multiple projects at a given time\\n    \\n    \\n  \\n  \\n   Job Requirements \\n   \\n    Education & Experience: \\n    \\n     Undergraduate degree or technical certificate\\n      7+ years relevant experience\\n      Proficient PC skills including a strong competency in MS Excel and PowerPoint, and a variety of PC based analytical and reporting software packages\\n      Advanced experience in the knowledge, utilization and adoption of the latest tools (i.e. machine learning) and technologies (i.e. Hadoop) in big data and advanced analytics\\n      Strong analytical and program solving skills are required to interpret data and draw conclusions\\n      Excellent written and verbal communications skills\\n    \\n    \\n      Must be eligible for employment under regulatory standards applicable to the position.\\n    \\n    \\n  \\n  \\n   Company Overview \\n   \\n    Our Values\\n     At TD, we're guided by our purpose to enrich the lives of our customers, communities and colleagues, and share a set of values that shape our culture and behaviors. In exchange for how our colleagues show up to help TD succeed, we are committed to delivering a colleague experience grounded in Impact, Growth and a Culture of Care. No matter where you work across TD, we empower you to make an impact at work and in your community, explore and grow your career, and be part of our caring and inclusive culture.\\n     \\n     Making Your Well-being a Priority\\n     A caring and supportive culture that promotes colleague well-being is core to who we are. At TD, we focus on total well-being with extensive programs to help colleagues assess, manage, and improve their well-being across four core pillars — physical, financial, social and mental/emotional. In addition, we champion a safe and inclusive work environment, so colleagues feel a sense of belonging and feel supported in their personal and professional growth. Through our focus on well-being, we know that we can help our colleagues thrive, contribute to our culture of care, and support better business outcomes, because when colleagues feel their best, they're more likely to do their best.\\n     \\n     Our Total Rewards Package\\n     Our Total Rewards package reflects the investments we make in our colleagues to help them and their families achieve their financial, physical and mental well-being goals. Total Rewards at TD includes base salary and variable compensation/incentive awards (e.g., eligibility for cash and/or equity incentive awards, generally through participation in an incentive plan) and several other key plans such as health and well-being benefits, savings and retirement programs, paid time off (including Vacation PTO, Flex PTO, and Holiday PTO), banking benefits and discounts, career development, and reward and recognition.\\n     \\n     How We Work\\n     At TD, we believe in-person connections fuel collaboration and collective creativity. Our workplace experience empowers colleagues to do great work side-by-side at TD locations, while offering flexibility to work remotely where it makes sense for the work and team. Our teams work in one of three workplace models: hybrid, onsite and primarily remote. Wherever our colleagues are working, they’ll always have access to the TD community to experience our culture of care.\\n     \\n     Who We Are\\n     TD is one of the world's leading global financial institutions and is the fifth largest bank in North America by branches/stores. Every day, we deliver legendary customer experiences to over 27 million households and businesses in Canada, the United States and \"\n",
    "    payload = {\"text\":text,'confidenceThreshold': 0.6}\n",
    "    #payload = \"{ \\\"text\\\": \\\"... Great candidates also have\\\\n\\\\n Experience with a particular JS MV* framework (we happen to use React)\\\\n Experience working with databases\\\\n Experience with AWS\\\\n Familiarity with microservice architecture\\\\n Familiarity with modern CSS practices, e.g. LESS, SASS, CSS-in-JS ...\\\", \\\"confidenceThreshold\\\": 0.6 }\"\n",
    "\n",
    "    response = requests.request(\"POST\", url, data=json.dumps(payload), headers=headers)\n",
    "    print(response.text)\n",
    "    \n",
    "    data  = json.loads(response.text) \n",
    "    return [d['skill']['name'] for d in data[\"data\"]], response.headers"
   ]
  },
  {
   "cell_type": "code",
   "execution_count": 6,
   "metadata": {},
   "outputs": [],
   "source": [
    "def read_Lightcast_catalogue(data_path):\n",
    "    with open(data_path, 'r') as file:\n",
    "        data = json.load(file)\n",
    "    data = json.loads(data)\n",
    "    return data\n",
    "    "
   ]
  },
  {
   "cell_type": "code",
   "execution_count": 7,
   "metadata": {},
   "outputs": [],
   "source": [
    "def write_catalogues_to_csv():\n",
    "    \n",
    "    data_path = os.getenv(\"DATA_SKILLS\")\n",
    "    skills = read_Lightcast_catalogue(data_path)[\"data\"]\n",
    "    skill_catalogue = [datum['name'] for datum in skills]\n",
    "    skill_catalogue = pd.DataFrame(skill_catalogue)\n",
    "    skill_catalogue.columns = ['skill']\n",
    "    file_path = os.path.join(os.getenv(\"DATA\"),\"Lightcast/Skills\",\"skill_catalogue.csv\")\n",
    "    print(file_path)\n",
    "    skill_catalogue.to_csv(file_path,index=None)\n",
    "\n",
    "    data_path = os.getenv(\"DATA_JOBS\")\n",
    "    jobs = read_Lightcast_catalogue(data_path)[\"data\"]\n",
    "    jobs_catalogue = [datum['name'] for datum in jobs]\n",
    "    jobs_catalogue = pd.DataFrame(jobs_catalogue)\n",
    "    jobs_catalogue.columns = ['job']\n",
    "    file_path = os.path.join(os.getenv(\"DATA\"),\"Lightcast/Jobs\",\"job_catalogue.csv\")\n",
    "    print(file_path)\n",
    "    jobs_catalogue.to_csv(file_path,index=None)"
   ]
  },
  {
   "cell_type": "code",
   "execution_count": null,
   "metadata": {},
   "outputs": [],
   "source": [
    "access_token = authenticate()\n",
    "get_skills(access_token)\n",
    "get_jobs(access_token)\n",
    "write_catalogues_to_csv()\n"
   ]
  },
  {
   "cell_type": "code",
   "execution_count": 46,
   "metadata": {},
   "outputs": [
    {
     "name": "stdout",
     "output_type": "stream",
     "text": [
      "client_id=7sn7t35qti9fmetr&client_secret=pJUU4IGA&grant_type=client_credentials&scope=emsi_open\n"
     ]
    }
   ],
   "source": [
    "access_token = authenticate()\n"
   ]
  },
  {
   "cell_type": "code",
   "execution_count": 47,
   "metadata": {},
   "outputs": [
    {
     "name": "stdout",
     "output_type": "stream",
     "text": [
      "{\"attributions\": [{\"name\": \"Wikipedia\", \"text\": \"Wikipedia extracts are distributed under the CC BY-SA license (https://creativecommons.org/licenses/by-sa/3.0/)\"}], \"data\": [{\"confidence\": 1.0, \"skill\": {\"description\": \"Apache Hadoop is a collection of open-source software utilities that facilitates using a network of many computers to solve problems involving massive amounts of data and computation. It provides a software framework for distributed storage and processing of big data using the MapReduce programming model. Hadoop was originally designed for computer clusters built from commodity hardware, which is still the common use. It has since also found use on clusters of higher-end hardware. All the modules in Hadoop are designed with a fundamental assumption that hardware failures are common occurrences and should be automatically handled by the framework.\", \"descriptionSource\": \"https://en.wikipedia.org/wiki/Apache_Hadoop\", \"id\": \"KS124KS624R3L2W8RKM6\", \"infoUrl\": \"https://lightcast.io/open-skills/skills/KS124KS624R3L2W8RKM6\", \"name\": \"Apache Hadoop\", \"tags\": [{\"key\": \"wikipediaExtract\", \"value\": \"Apache Hadoop is a collection of open-source software utilities that facilitates using a network of many computers to solve problems involving massive amounts of data and computation. It provides a software framework for distributed storage and processing of big data using the MapReduce programming model. Hadoop was originally designed for computer clusters built from commodity hardware, which is still the common use. It has since also found use on clusters of higher-end hardware. All the modules in Hadoop are designed with a fundamental assumption that hardware failures are common occurrences and should be automatically handled by the framework.\"}, {\"key\": \"wikipediaUrl\", \"value\": \"https://en.wikipedia.org/wiki/Apache_Hadoop\"}], \"type\": {\"id\": \"ST1\", \"name\": \"Specialized Skill\"}}}, {\"confidence\": 1.0, \"skill\": {\"description\": \"Planning is the process of thinking about the activities required to achieve a desired goal. It is the first and foremost activity to achieve desired results. It involves the creation and maintenance of a plan, such as psychological aspects that require conceptual skills. There are even a couple of tests to measure someone\\u2019s capability of planning well. As such, planning is a fundamental property of intelligent behavior. An important further meaning, often just called \\\"planning\\\", is the legal context of permitted building developments.\", \"descriptionSource\": \"https://en.wikipedia.org/wiki/Planning\", \"id\": \"ESEB1D4619E6E83A061D\", \"infoUrl\": \"https://lightcast.io/open-skills/skills/ESEB1D4619E6E83A061D\", \"name\": \"Planning\", \"tags\": [{\"key\": \"wikipediaExtract\", \"value\": \"Planning is the process of thinking about the activities required to achieve a desired goal. It is the first and foremost activity to achieve desired results. It involves the creation and maintenance of a plan, such as psychological aspects that require conceptual skills. There are even a couple of tests to measure someone\\u2019s capability of planning well. As such, planning is a fundamental property of intelligent behavior. An important further meaning, often just called \\\"planning\\\", is the legal context of permitted building developments.\"}, {\"key\": \"wikipediaUrl\", \"value\": \"https://en.wikipedia.org/wiki/Planning\"}], \"type\": {\"id\": \"ST2\", \"name\": \"Common Skill\"}}}, {\"confidence\": 1.0, \"skill\": {\"description\": null, \"descriptionSource\": null, \"id\": \"ESCC8F99B130EAC431A5\", \"infoUrl\": \"https://lightcast.io/open-skills/skills/ESCC8F99B130EAC431A5\", \"name\": \"Technical Leadership\", \"tags\": [], \"type\": {\"id\": \"ST1\", \"name\": \"Specialized Skill\"}}}, {\"confidence\": 1.0, \"skill\": {\"description\": \"Data science is an interdisciplinary field that uses scientific methods, processes, algorithms and systems to extract knowledge and insights from structured and unstructured data, and apply knowledge and actionable insights from data across a broad range of application domains. Data science is related to data mining, machine learning and big data.\", \"descriptionSource\": \"https://en.wikipedia.org/wiki/Data_science\", \"id\": \"KS7LO8P3MXB93R3C9RWL\", \"infoUrl\": \"https://lightcast.io/open-skills/skills/KS7LO8P3MXB93R3C9RWL\", \"name\": \"Data Science\", \"tags\": [{\"key\": \"wikipediaExtract\", \"value\": \"Data science is an interdisciplinary field that uses scientific methods, processes, algorithms and systems to extract knowledge and insights from structured and unstructured data, and apply knowledge and actionable insights from data across a broad range of application domains. Data science is related to data mining, machine learning and big data.\"}, {\"key\": \"wikipediaUrl\", \"value\": \"https://en.wikipedia.org/wiki/Data_science\"}], \"type\": {\"id\": \"ST1\", \"name\": \"Specialized Skill\"}}}, {\"confidence\": 1.0, \"skill\": {\"description\": \"Machine learning (ML) is the study of computer algorithms that improve automatically through experience and by the use of data. It is seen as a part of artificial intelligence. Machine learning algorithms build a model based on sample data, known as \\\"training data\\\", in order to make predictions or decisions without being explicitly programmed to do so. Machine learning algorithms are used in a wide variety of applications, such as email filtering and computer vision, where it is difficult or unfeasible to develop conventional algorithms to perform the needed tasks.\", \"descriptionSource\": \"https://en.wikipedia.org/wiki/Machine_learning\", \"id\": \"KS1261Z68KSKR1X31KS3\", \"infoUrl\": \"https://lightcast.io/open-skills/skills/KS1261Z68KSKR1X31KS3\", \"name\": \"Machine Learning\", \"tags\": [{\"key\": \"wikipediaExtract\", \"value\": \"Machine learning (ML) is the study of computer algorithms that improve automatically through experience and by the use of data. It is seen as a part of artificial intelligence. Machine learning algorithms build a model based on sample data, known as \\\"training data\\\", in order to make predictions or decisions without being explicitly programmed to do so. Machine learning algorithms are used in a wide variety of applications, such as email filtering and computer vision, where it is difficult or unfeasible to develop conventional algorithms to perform the needed tasks.\"}, {\"key\": \"wikipediaUrl\", \"value\": \"https://en.wikipedia.org/wiki/Machine_learning\"}], \"type\": {\"id\": \"ST1\", \"name\": \"Specialized Skill\"}}}, {\"confidence\": 1.0, \"skill\": {\"description\": \"\\nAccountability, in terms of ethics and governance, is equated with answerability, blameworthiness, liability, and the expectation of account-giving. As in an aspect of governance, it has been central to discussions related to problems in the public sector, nonprofit and private (corporate) and individual contexts. In leadership roles, accountability is the acknowledgment and assumption of responsibility for actions, products, decisions, and policies including the administration, governance, and implementation within the scope of the role or employment position and encompassing the obligation to report, explain and be answerable for resulting consequences.\", \"descriptionSource\": \"https://en.wikipedia.org/wiki/Accountability\", \"id\": \"ES7A07CF87C516875B23\", \"infoUrl\": \"https://lightcast.io/open-skills/skills/ES7A07CF87C516875B23\", \"name\": \"Accountability\", \"tags\": [{\"key\": \"wikipediaExtract\", \"value\": \"\\nAccountability, in terms of ethics and governance, is equated with answerability, blameworthiness, liability, and the expectation of account-giving. As in an aspect of governance, it has been central to discussions related to problems in the public sector, nonprofit and private (corporate) and individual contexts. In leadership roles, accountability is the acknowledgment and assumption of responsibility for actions, products, decisions, and policies including the administration, governance, and implementation within the scope of the role or employment position and encompassing the obligation to report, explain and be answerable for resulting consequences.\"}, {\"key\": \"wikipediaUrl\", \"value\": \"https://en.wikipedia.org/wiki/Accountability\"}], \"type\": {\"id\": \"ST2\", \"name\": \"Common Skill\"}}}, {\"confidence\": 1.0, \"skill\": {\"description\": \"Analytics is the systematic computational analysis of data or statistics. It is used for the discovery, interpretation, and communication of meaningful patterns in data. It also entails applying data patterns toward effective decision-making. It can be valuable in areas rich with recorded information; analytics relies on the simultaneous application of statistics, computer programming, and operations research to quantify performance.\", \"descriptionSource\": \"https://en.wikipedia.org/wiki/Analytics\", \"id\": \"ESB17C5AF46AFE08157D\", \"infoUrl\": \"https://lightcast.io/open-skills/skills/ESB17C5AF46AFE08157D\", \"name\": \"Advanced Analytics\", \"tags\": [{\"key\": \"wikipediaExtract\", \"value\": \"Analytics is the systematic computational analysis of data or statistics. It is used for the discovery, interpretation, and communication of meaningful patterns in data. It also entails applying data patterns toward effective decision-making. It can be valuable in areas rich with recorded information; analytics relies on the simultaneous application of statistics, computer programming, and operations research to quantify performance.\"}, {\"key\": \"wikipediaUrl\", \"value\": \"https://en.wikipedia.org/wiki/Analytics\"}], \"type\": {\"id\": \"ST1\", \"name\": \"Specialized Skill\"}}}, {\"confidence\": 0.992179274559021, \"skill\": {\"description\": \"Big data is a field that treats ways to analyze, systematically extract information from, or otherwise deal with data sets that are too large or complex to be dealt with by traditional data-processing application software. Data with many fields (columns) offer greater statistical power, while data with higher complexity may lead to a higher false discovery rate. Big data analysis challenges include capturing data, data storage, data analysis, search, sharing, transfer, visualization, querying, updating, information privacy, and data source. Big data was originally associated with three key concepts: volume, variety, and velocity. The analysis of big data presents challenges in sampling, and thus previously allowing for only observations and sampling. Therefore, big data often includes data with sizes that exceed the capacity of traditional software to process within an acceptable time and value.\", \"descriptionSource\": \"https://en.wikipedia.org/wiki/Big_data\", \"id\": \"KS1210269P78D7GH8LWY\", \"infoUrl\": \"https://lightcast.io/open-skills/skills/KS1210269P78D7GH8LWY\", \"name\": \"Big Data\", \"tags\": [{\"key\": \"wikipediaExtract\", \"value\": \"Big data is a field that treats ways to analyze, systematically extract information from, or otherwise deal with data sets that are too large or complex to be dealt with by traditional data-processing application software. Data with many fields (columns) offer greater statistical power, while data with higher complexity may lead to a higher false discovery rate. Big data analysis challenges include capturing data, data storage, data analysis, search, sharing, transfer, visualization, querying, updating, information privacy, and data source. Big data was originally associated with three key concepts: volume, variety, and velocity. The analysis of big data presents challenges in sampling, and thus previously allowing for only observations and sampling. Therefore, big data often includes data with sizes that exceed the capacity of traditional software to process within an acceptable time and value.\"}, {\"key\": \"wikipediaUrl\", \"value\": \"https://en.wikipedia.org/wiki/Big_data\"}], \"type\": {\"id\": \"ST1\", \"name\": \"Specialized Skill\"}}}, {\"confidence\": 0.988254725933075, \"skill\": {\"description\": \"Creativity is a phenomenon whereby something somehow new and somehow valuable is formed. The created item may be intangible or a physical object.\", \"descriptionSource\": \"https://en.wikipedia.org/wiki/Creativity\", \"id\": \"KS122HK6LN2MZHFY69GJ\", \"infoUrl\": \"https://lightcast.io/open-skills/skills/KS122HK6LN2MZHFY69GJ\", \"name\": \"Creativity\", \"tags\": [{\"key\": \"wikipediaExtract\", \"value\": \"Creativity is a phenomenon whereby something somehow new and somehow valuable is formed. The created item may be intangible or a physical object.\"}, {\"key\": \"wikipediaUrl\", \"value\": \"https://en.wikipedia.org/wiki/Creativity\"}], \"type\": {\"id\": \"ST2\", \"name\": \"Common Skill\"}}}, {\"confidence\": 0.9548170566558838, \"skill\": {\"description\": \"Management is the administration of an organization, whether it is a business, a not-for-profit organization, or government body.\", \"descriptionSource\": \"https://en.wikipedia.org/wiki/Management\", \"id\": \"KS1218W78FGVPVP2KXPX\", \"infoUrl\": \"https://lightcast.io/open-skills/skills/KS1218W78FGVPVP2KXPX\", \"name\": \"Management\", \"tags\": [{\"key\": \"wikipediaExtract\", \"value\": \"Management is the administration of an organization, whether it is a business, a not-for-profit organization, or government body.\"}, {\"key\": \"wikipediaUrl\", \"value\": \"https://en.wikipedia.org/wiki/Management\"}], \"type\": {\"id\": \"ST2\", \"name\": \"Common Skill\"}}}, {\"confidence\": 0.9516056180000305, \"skill\": {\"description\": \"To invest is to allocate money in the expectation of some benefit/return in the future. In other words, to invest means owning an asset or an item with the goal of generating income from the investment or the appreciation of your investment which is an increase in the value of the asset over a period of time. When you invest it always requires a sacrifice of some present asset that you own today such as time, money, or effort.\", \"descriptionSource\": \"https://en.wikipedia.org/wiki/Investment\", \"id\": \"KS121CX75Q8F638ZCJVZ\", \"infoUrl\": \"https://lightcast.io/open-skills/skills/KS121CX75Q8F638ZCJVZ\", \"name\": \"Investments\", \"tags\": [{\"key\": \"wikipediaExtract\", \"value\": \"To invest is to allocate money in the expectation of some benefit/return in the future. In other words, to invest means owning an asset or an item with the goal of generating income from the investment or the appreciation of your investment which is an increase in the value of the asset over a period of time. When you invest it always requires a sacrifice of some present asset that you own today such as time, money, or effort.\"}, {\"key\": \"wikipediaUrl\", \"value\": \"https://en.wikipedia.org/wiki/Investment\"}], \"type\": {\"id\": \"ST1\", \"name\": \"Specialized Skill\"}}}, {\"confidence\": 0.9464648365974426, \"skill\": {\"description\": \"Communication is the act of developing meaning among entities or groups through the use of sufficiently mutually understood signs, symbols, and semiotic conventions.\", \"descriptionSource\": \"https://en.wikipedia.org/wiki/Communication\", \"id\": \"KS122556LMQ829GZCCRV\", \"infoUrl\": \"https://lightcast.io/open-skills/skills/KS122556LMQ829GZCCRV\", \"name\": \"Communication\", \"tags\": [{\"key\": \"wikipediaExtract\", \"value\": \"Communication is the act of developing meaning among entities or groups through the use of sufficiently mutually understood signs, symbols, and semiotic conventions.\"}, {\"key\": \"wikipediaUrl\", \"value\": \"https://en.wikipedia.org/wiki/Communication\"}], \"type\": {\"id\": \"ST2\", \"name\": \"Common Skill\"}}}, {\"confidence\": 0.9290847778320312, \"skill\": {\"description\": \"Data analysis is a process of inspecting, cleansing, transforming, and modeling data with the goal of discovering useful information, informing conclusions, and supporting decision-making. Data analysis has multiple facets and approaches, encompassing diverse techniques under a variety of names, and is used in different business, science, and social science domains. In today's business world, data analysis plays a role in making decisions more scientific and helping businesses operate more effectively.\", \"descriptionSource\": \"https://en.wikipedia.org/wiki/Data_analysis\", \"id\": \"KS120GV6C72JMSZKMTD7\", \"infoUrl\": \"https://lightcast.io/open-skills/skills/KS120GV6C72JMSZKMTD7\", \"name\": \"Data Analysis\", \"tags\": [{\"key\": \"wikipediaExtract\", \"value\": \"Data analysis is a process of inspecting, cleansing, transforming, and modeling data with the goal of discovering useful information, informing conclusions, and supporting decision-making. Data analysis has multiple facets and approaches, encompassing diverse techniques under a variety of names, and is used in different business, science, and social science domains. In today's business world, data analysis plays a role in making decisions more scientific and helping businesses operate more effectively.\"}, {\"key\": \"wikipediaUrl\", \"value\": \"https://en.wikipedia.org/wiki/Data_analysis\"}], \"type\": {\"id\": \"ST1\", \"name\": \"Specialized Skill\"}}}, {\"confidence\": 0.890586793422699, \"skill\": {\"description\": \"In finance, equity is ownership of assets that may have debts or other liabilities attached to them. Equity is measured for accounting purposes by subtracting liabilities from the value of the assets. For example, if someone owns a car worth $9,000 and owes $3,000 on the loan used to buy the car, then the difference of $6,000 is equity. Equity can apply to a single asset, such as a car or house, or to an entire business. A business that needs to start up or expand its operations can sell its equity in order to raise cash that does not have to be repaid on a set schedule.\", \"descriptionSource\": \"https://en.wikipedia.org/wiki/Equity_(finance)\", \"id\": \"KS123MF6JT9PVPX9HHXS\", \"infoUrl\": \"https://lightcast.io/open-skills/skills/KS123MF6JT9PVPX9HHXS\", \"name\": \"Equities\", \"tags\": [{\"key\": \"wikipediaExtract\", \"value\": \"In finance, equity is ownership of assets that may have debts or other liabilities attached to them. Equity is measured for accounting purposes by subtracting liabilities from the value of the assets. For example, if someone owns a car worth $9,000 and owes $3,000 on the loan used to buy the car, then the difference of $6,000 is equity. Equity can apply to a single asset, such as a car or house, or to an entire business. A business that needs to start up or expand its operations can sell its equity in order to raise cash that does not have to be repaid on a set schedule.\"}, {\"key\": \"wikipediaUrl\", \"value\": \"https://en.wikipedia.org/wiki/Equity_(finance)\"}], \"type\": {\"id\": \"ST1\", \"name\": \"Specialized Skill\"}}}, {\"confidence\": 0.8620995879173279, \"skill\": {\"description\": \"Microsoft PowerPoint is a presentation program, created by Robert Gaskins and Dennis Austin at a software company named Forethought, Inc. It was released on April 20, 1987, initially for Macintosh System Operating system based computers only. Microsoft acquired PowerPoint for about $14\\u00a0million three months after it appeared. This was Microsoft's first significant acquisition, and Microsoft set up a new business unit for PowerPoint in Silicon Valley where Forethought had been located.\", \"descriptionSource\": \"https://en.wikipedia.org/wiki/Microsoft_PowerPoint\", \"id\": \"KS127ZG6DBSF76WF7VYX\", \"infoUrl\": \"https://lightcast.io/open-skills/skills/KS127ZG6DBSF76WF7VYX\", \"name\": \"Microsoft PowerPoint\", \"tags\": [{\"key\": \"wikipediaExtract\", \"value\": \"Microsoft PowerPoint is a presentation program, created by Robert Gaskins and Dennis Austin at a software company named Forethought, Inc. It was released on April 20, 1987, initially for Macintosh System Operating system based computers only. Microsoft acquired PowerPoint for about $14\\u00a0million three months after it appeared. This was Microsoft's first significant acquisition, and Microsoft set up a new business unit for PowerPoint in Silicon Valley where Forethought had been located.\"}, {\"key\": \"wikipediaUrl\", \"value\": \"https://en.wikipedia.org/wiki/Microsoft_PowerPoint\"}], \"type\": {\"id\": \"ST2\", \"name\": \"Common Skill\"}}}, {\"confidence\": 0.8575882315635681, \"skill\": {\"description\": \"Financial institutions, otherwise known as banking institutions, are corporations that provide services as intermediaries of financial markets. Broadly speaking, there are three major types of financial institutions:Depository institutions \\u2013 deposit-taking institutions that accept and manage deposits and make loans, including banks, building societies, credit unions, trust companies, and mortgage loan companies;\\nContractual institutions \\u2013 insurance companies and pension funds\\nInvestment institutions \\u2013 investment banks, underwriters, and other different types of financial entities managing investments.\", \"descriptionSource\": \"https://en.wikipedia.org/wiki/Financial_institution\", \"id\": \"KS120WT70DM8WX59219Z\", \"infoUrl\": \"https://lightcast.io/open-skills/skills/KS120WT70DM8WX59219Z\", \"name\": \"Financial Institution\", \"tags\": [{\"key\": \"wikipediaExtract\", \"value\": \"Financial institutions, otherwise known as banking institutions, are corporations that provide services as intermediaries of financial markets. Broadly speaking, there are three major types of financial institutions:Depository institutions \\u2013 deposit-taking institutions that accept and manage deposits and make loans, including banks, building societies, credit unions, trust companies, and mortgage loan companies;\\nContractual institutions \\u2013 insurance companies and pension funds\\nInvestment institutions \\u2013 investment banks, underwriters, and other different types of financial entities managing investments.\"}, {\"key\": \"wikipediaUrl\", \"value\": \"https://en.wikipedia.org/wiki/Financial_institution\"}], \"type\": {\"id\": \"ST1\", \"name\": \"Specialized Skill\"}}}, {\"confidence\": 0.829526424407959, \"skill\": {\"description\": \"Microsoft Excel is a spreadsheet developed by Microsoft for Windows, macOS, Android and iOS. It features calculation, graphing tools, pivot tables, and a macro programming language called Visual Basic for Applications (VBA). It has been a very widely applied spreadsheet for these platforms, especially since version 5 in 1993, and it has replaced Lotus 1-2-3 as the industry standard for spreadsheets. Excel forms part of the Microsoft Office suite of software.\", \"descriptionSource\": \"https://en.wikipedia.org/wiki/Microsoft_Excel\", \"id\": \"KS1200H6XYN1CR0G5NZ0\", \"infoUrl\": \"https://lightcast.io/open-skills/skills/KS1200H6XYN1CR0G5NZ0\", \"name\": \"Microsoft Excel\", \"tags\": [{\"key\": \"wikipediaExtract\", \"value\": \"Microsoft Excel is a spreadsheet developed by Microsoft for Windows, macOS, Android and iOS. It features calculation, graphing tools, pivot tables, and a macro programming language called Visual Basic for Applications (VBA). It has been a very widely applied spreadsheet for these platforms, especially since version 5 in 1993, and it has replaced Lotus 1-2-3 as the industry standard for spreadsheets. Excel forms part of the Microsoft Office suite of software.\"}, {\"key\": \"wikipediaUrl\", \"value\": \"https://en.wikipedia.org/wiki/Microsoft_Excel\"}], \"type\": {\"id\": \"ST2\", \"name\": \"Common Skill\"}}}]}\n"
     ]
    }
   ],
   "source": [
    "data,headers = extract_skills(access_token)"
   ]
  },
  {
   "cell_type": "code",
   "execution_count": null,
   "metadata": {},
   "outputs": [],
   "source": []
  }
 ],
 "metadata": {
  "kernelspec": {
   "display_name": "ai",
   "language": "python",
   "name": "python3"
  },
  "language_info": {
   "codemirror_mode": {
    "name": "ipython",
    "version": 3
   },
   "file_extension": ".py",
   "mimetype": "text/x-python",
   "name": "python",
   "nbconvert_exporter": "python",
   "pygments_lexer": "ipython3",
   "version": "3.11.7"
  }
 },
 "nbformat": 4,
 "nbformat_minor": 2
}
