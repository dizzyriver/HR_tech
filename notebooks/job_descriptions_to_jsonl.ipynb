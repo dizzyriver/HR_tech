{
 "cells": [
  {
   "cell_type": "code",
   "execution_count": 1,
   "metadata": {},
   "outputs": [
    {
     "name": "stderr",
     "output_type": "stream",
     "text": [
      "/Users/vasilishatzopoulos/miniforge3/envs/ai/lib/python3.11/site-packages/pandas/core/arrays/masked.py:60: UserWarning: Pandas requires version '1.3.6' or newer of 'bottleneck' (version '1.3.5' currently installed).\n",
      "  from pandas.core import (\n"
     ]
    }
   ],
   "source": [
    "import os\n",
    "from tqdm import tqdm\n",
    "import pandas as pd\n",
    "from dotenv import load_dotenv, find_dotenv\n",
    "_ = load_dotenv(find_dotenv())\n",
    "import json\n",
    "from IPython.display import display, Markdown"
   ]
  },
  {
   "cell_type": "code",
   "execution_count": 14,
   "metadata": {},
   "outputs": [],
   "source": [
    "def job_descriptions_to_json():\n",
    "\n",
    "    jd_path = os.getenv(\"JOB_DESCRIPTIONS\")\n",
    "    jd_files = [f for f in os.listdir(jd_path) if f.endswith('.json')]\n",
    "    job_descriptions = []\n",
    "    for jd_file in tqdm(jd_files):\n",
    "        with open(os.path.join(jd_path,jd_file), 'r') as file:\n",
    "            data = json.load(file)\n",
    "            for item in data:\n",
    "                job_descriptions.append({\"id\":item[\"id\"],\"text\":item[\"description\"]})\n",
    "                #job_descriptions.append({\"description\":item[\"description\"]})\n",
    "    \n",
    "    job_descriptions = pd.DataFrame(job_descriptions)\n",
    "    job_descriptions = job_descriptions.drop_duplicates(subset='id')\n",
    "    #job_descriptions = job_descriptions.drop(columns=\"id\")\n",
    "    with open(os.path.join(jd_path,\"job_descriptions.jsonl\"), \"w\") as f:\n",
    "        f.write(job_descriptions.to_json(orient='records', lines=True, force_ascii=False))"
   ]
  },
  {
   "cell_type": "code",
   "execution_count": 15,
   "metadata": {},
   "outputs": [
    {
     "name": "stderr",
     "output_type": "stream",
     "text": [
      "100%|██████████| 6/6 [00:00<00:00, 99.92it/s]\n"
     ]
    }
   ],
   "source": [
    "job_descriptions_to_json()"
   ]
  },
  {
   "cell_type": "code",
   "execution_count": 14,
   "metadata": {},
   "outputs": [],
   "source": [
    "job_descriptions = pd.DataFrame(job_descriptions)"
   ]
  },
  {
   "cell_type": "code",
   "execution_count": null,
   "metadata": {},
   "outputs": [],
   "source": []
  }
 ],
 "metadata": {
  "kernelspec": {
   "display_name": "ai",
   "language": "python",
   "name": "python3"
  },
  "language_info": {
   "codemirror_mode": {
    "name": "ipython",
    "version": 3
   },
   "file_extension": ".py",
   "mimetype": "text/x-python",
   "name": "python",
   "nbconvert_exporter": "python",
   "pygments_lexer": "ipython3",
   "version": "3.11.7"
  }
 },
 "nbformat": 4,
 "nbformat_minor": 2
}
