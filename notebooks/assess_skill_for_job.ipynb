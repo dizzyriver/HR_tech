{
 "cells": [
  {
   "cell_type": "code",
   "execution_count": null,
   "id": "2a5d40bf-9c45-4dd8-a4f8-f0f5335c205c",
   "metadata": {},
   "outputs": [],
   "source": [
    "import openai\n",
    "import os\n",
    "import pickle\n",
    "import pandas as pd\n",
    "from tqdm import tqdm\n",
    "from dotenv import load_dotenv, find_dotenv\n",
    "_ = load_dotenv(find_dotenv())\n",
    "import json\n",
    "import hashlib\n",
    "\n",
    "from langchain.chat_models import ChatOpenAI\n",
    "from langchain.prompts import ChatPromptTemplate\n",
    "from langchain.output_parsers import ResponseSchema\n",
    "from langchain.output_parsers import StructuredOutputParser\n",
    "openai.api_key  = os.getenv('OPENAI_API_KEY')"
   ]
  },
  {
   "cell_type": "code",
   "execution_count": null,
   "id": "e70c1c2c-edce-4611-b400-a24ab86be7b9",
   "metadata": {},
   "outputs": [],
   "source": [
    "def generate_assesment(df, scale, prompt_template_fname, llm):\n",
    "\n",
    "    \"\"\"\n",
    "    Given a skill assess its importance to a job\n",
    "    \"\"\"\n",
    "\n",
    "    response_schemas = []\n",
    "    \n",
    "    question_schema =  ResponseSchema(name=f\"\"\"Assesment\"\"\",\n",
    "                                          description=f\"\"\"Assesment of the importance of skill to the job\n",
    "                                          on a scale of 1 to {scale}\"\"\"\n",
    "                                         )\n",
    "    response_schemas.append(question_schema)\n",
    "    answer_schema =  ResponseSchema(name=f\"\"\"Reasoning\"\"\",\n",
    "                                          description=f\"\"\"Reasoning to support the assesment\"\"\"\n",
    "                                         )\n",
    "    response_schemas.append(answer_schema)\n",
    "\n",
    "    output_parser = StructuredOutputParser.from_response_schemas(response_schemas)\n",
    "    format_instructions = output_parser.get_format_instructions()\n",
    "\n",
    "\n",
    "    prompt_path = os.path.join(os.getenv(\"PROMPTS\"),prompt_template_fname)\n",
    "    with open(prompt_path,\"r\") as file:\n",
    "        template_string = file.read()\n",
    "    prompt_template = ChatPromptTemplate.from_template(template_string)\n",
    "\n",
    "\n",
    "    for idx, row in tqdm(df.iterrows()):\n",
    "        \n",
    "        skill=row[\"skill\"]\n",
    "        job=row[\"job\"]\n",
    "        print(f\"\"\"assesing the importance of skill {skill} for job {job}\"\"\")\n",
    "\n",
    "        message = prompt_template.format_messages(\n",
    "                    skill=skill,\n",
    "                    job=job,\n",
    "                    scale=scale,        \n",
    "                    format_instructions=format_instructions)\n",
    "\n",
    "        response = llm(message)\n",
    "        output_dict = output_parser.parse(response.content)\n",
    "        output_dict[\"job\"]=row[\"job\"]\n",
    "\n",
    "\n",
    "        path = os.path.join(os.getenv(\"ASSESMENTS\"),f\"\"\"assesment_{idx+1}.json\"\"\")\n",
    "        with open(path, \"w\",  encoding='utf-8') as file:\n",
    "            json.dump(output_dict,   file, ensure_ascii=False)"
   ]
  },
  {
   "cell_type": "markdown",
   "id": "c8e32a71-c22e-494f-ba02-538b8d25f81b",
   "metadata": {},
   "source": [
    "## Generate skill assesments"
   ]
  },
  {
   "cell_type": "code",
   "execution_count": null,
   "id": "1806c089-9721-4e7c-afc6-c64470ce1a57",
   "metadata": {},
   "outputs": [],
   "source": [
    "model = os.getenv(\"LLM_URL\")\n",
    "#model = \"gpt-3.5-turbo\"\n",
    "#model = \"gpt-4-turbo-preview\"\n",
    "#llm = ChatOpenAI(temperature=temperature, model=accepted_answer_model)\n",
    "scale = 10\n",
    "temperature = 0.2\n",
    "max_tokens=512\n",
    "random_seed = 1\n",
    "prompt_template_fname = \"assess_skill_for_job.txt\"\n",
    "\n",
    "llm = ChatOpenAI(\n",
    "        base_url=os.getenv(\"LLM_URL\"),\n",
    "        api_key=\"not-needed\",\n",
    "        temperature=temperature,\n",
    "        max_tokens=max_tokens,\n",
    "        model_kwargs={\"seed\": random_seed}\n",
    "        )\n",
    "df = pd.DataFrame()\n",
    "df[\"skill\"]=[\"C++\",\"Influencing\",\"Machine Learning\",\"Communication\",\"Leadership\"]*2\n",
    "df[\"job\"]=[\"Data Scientist\",\"Data Scientist\",\"Data Scientist\",\"Data Scientist\",\"Data Scientist\",\n",
    "           \"Product Manager\",\"Product Manager\",\"Product Manager\",\"Product Manager\",\"Product Manager\"]\n",
    "generate_assesment(df, scale, prompt_template_fname, llm)\n",
    "\n"
   ]
  },
  {
   "cell_type": "code",
   "execution_count": null,
   "id": "d4f2322f",
   "metadata": {},
   "outputs": [],
   "source": [
    "[1,2]*2"
   ]
  },
  {
   "cell_type": "code",
   "execution_count": null,
   "id": "d6f1ed33",
   "metadata": {},
   "outputs": [],
   "source": []
  }
 ],
 "metadata": {
  "kernelspec": {
   "display_name": "Python 3 (ipykernel)",
   "language": "python",
   "name": "python3"
  },
  "language_info": {
   "codemirror_mode": {
    "name": "ipython",
    "version": 3
   },
   "file_extension": ".py",
   "mimetype": "text/x-python",
   "name": "python",
   "nbconvert_exporter": "python",
   "pygments_lexer": "ipython3",
   "version": "3.11.7"
  }
 },
 "nbformat": 4,
 "nbformat_minor": 5
}
