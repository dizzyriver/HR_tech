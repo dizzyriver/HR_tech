{
 "cells": [
  {
   "cell_type": "code",
   "execution_count": 28,
   "metadata": {},
   "outputs": [
    {
     "data": {
      "text/plain": [
       "True"
      ]
     },
     "execution_count": 28,
     "metadata": {},
     "output_type": "execute_result"
    }
   ],
   "source": [
    "import os\n",
    "import json\n",
    "import requests\n",
    "from datetime import datetime\n",
    "from dotenv import load_dotenv, find_dotenv\n",
    "load_dotenv(find_dotenv())"
   ]
  },
  {
   "cell_type": "code",
   "execution_count": 2,
   "metadata": {},
   "outputs": [],
   "source": [
    "def authenticate():\n",
    "    \n",
    "    url = \"https://auth.emsicloud.com/connect/token\"\n",
    "\n",
    "    CLIENT_ID = os.getenv(\"CLIENT_ID\")\n",
    "    CLIENT_SECRET = os.getenv(\"CLIENT_SECRET\")\n",
    "    SCOPE = os.getenv(\"SCOPE\")\n",
    "    payload = f\"\"\"client_id={CLIENT_ID}&client_secret={CLIENT_SECRET}&grant_type=client_credentials&scope={SCOPE}\"\"\"\n",
    "    print(payload)\n",
    "    headers = {'Content-Type': 'application/x-www-form-urlencoded'}\n",
    "\n",
    "    response = requests.request(\"POST\", url, data=payload, headers=headers)\n",
    "\n",
    "    return response"
   ]
  },
  {
   "cell_type": "code",
   "execution_count": 62,
   "metadata": {},
   "outputs": [],
   "source": [
    "def get_skills(acess_token):\n",
    "\n",
    "    url = url = \"https://emsiservices.com/skills/versions/latest/skills\"\n",
    "    headers = {'Authorization': f\"\"\"Bearer {access_token}\"\"\"}\n",
    "    response = requests.request(\"GET\", url, headers=headers)\n",
    "    path = os.path.join(os.getenv(\"DATA\"),\"Lightcast/Skills\",f\"\"\"skills_{str(datetime.today())[:10]}.json\"\"\")\n",
    "    with open(path, 'w') as file:\n",
    "        json.dump(response.text, file, indent=4)\n"
   ]
  },
  {
   "cell_type": "code",
   "execution_count": 64,
   "metadata": {},
   "outputs": [],
   "source": [
    "def get_titles(acess_token):\n",
    "\n",
    "    url = \"https://emsiservices.com/titles/versions/latest/titles\"\n",
    "    headers = {'Authorization': f\"\"\"Bearer {access_token}\"\"\"}\n",
    "    response = requests.request(\"GET\", url, headers=headers)\n",
    "    path = os.path.join(os.getenv(\"DATA\"),\"Lightcast/Titles\",f\"\"\"titles_{str(datetime.today())[:10]}.json\"\"\")\n",
    "    with open(path, 'w') as file:\n",
    "        json.dump(response.text, file, indent=4)\n"
   ]
  },
  {
   "cell_type": "code",
   "execution_count": 4,
   "metadata": {},
   "outputs": [
    {
     "name": "stdout",
     "output_type": "stream",
     "text": [
      "client_id=7sn7t35qti9fmetr&client_secret=pJUU4IGA&grant_type=client_credentials&scope=emsi_open\n"
     ]
    }
   ],
   "source": [
    "response = authenticate()\n",
    "access_token = json.loads(response)[\"access_token\"]"
   ]
  },
  {
   "cell_type": "code",
   "execution_count": 63,
   "metadata": {},
   "outputs": [],
   "source": [
    "get_skills(access_token)\n"
   ]
  },
  {
   "cell_type": "code",
   "execution_count": 66,
   "metadata": {},
   "outputs": [],
   "source": [
    "get_titles(access_token)"
   ]
  },
  {
   "cell_type": "code",
   "execution_count": null,
   "metadata": {},
   "outputs": [],
   "source": []
  }
 ],
 "metadata": {
  "kernelspec": {
   "display_name": "ai",
   "language": "python",
   "name": "python3"
  },
  "language_info": {
   "codemirror_mode": {
    "name": "ipython",
    "version": 3
   },
   "file_extension": ".py",
   "mimetype": "text/x-python",
   "name": "python",
   "nbconvert_exporter": "python",
   "pygments_lexer": "ipython3",
   "version": "3.11.7"
  }
 },
 "nbformat": 4,
 "nbformat_minor": 2
}
